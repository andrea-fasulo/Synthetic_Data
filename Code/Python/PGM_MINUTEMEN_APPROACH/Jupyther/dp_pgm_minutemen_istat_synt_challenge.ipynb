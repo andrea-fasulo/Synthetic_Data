{
  "nbformat": 4,
  "nbformat_minor": 0,
  "metadata": {
    "colab": {
      "name": "dp_pgm_minutemen_istat_synt_challenge.ipynb",
      "provenance": [],
      "collapsed_sections": []
    },
    "kernelspec": {
      "name": "python3",
      "display_name": "Python 3"
    },
    "language_info": {
      "name": "python"
    },
    "accelerator": "GPU"
  },
  "cells": [
    {
      "cell_type": "code",
      "source": [
        "import os\n",
        "os.system('pip install numpy')\n",
        "os.system('pip install gdown')\n",
        "import platform\n",
        "import numpy\n",
        "import pandas\n",
        "# Operating System\n",
        "OS = platform.system()                                                             # returns 'Windows', 'Linux', etc\n"
      ],
      "metadata": {
        "id": "HS6fWorwEiAB"
      },
      "execution_count": 1,
      "outputs": []
    },
    {
      "cell_type": "code",
      "source": [
        "benchmark = True"
      ],
      "metadata": {
        "id": "6BkBAOfMnJgp"
      },
      "execution_count": 2,
      "outputs": []
    },
    {
      "cell_type": "markdown",
      "source": [
        "# All Program checks"
      ],
      "metadata": {
        "id": "oKk8NbUF3Ur1"
      }
    },
    {
      "cell_type": "code",
      "source": [
        "os.system('python --version')\n",
        "print(numpy.__version__)\n",
        "print(pandas.__version__)"
      ],
      "metadata": {
        "colab": {
          "base_uri": "https://localhost:8080/"
        },
        "id": "CcTw49-X3QLt",
        "outputId": "c5e7d0ff-4d3d-467f-a7f6-af1850c6ae70"
      },
      "execution_count": 3,
      "outputs": [
        {
          "output_type": "stream",
          "name": "stdout",
          "text": [
            "1.19.5\n",
            "1.1.5\n"
          ]
        }
      ]
    },
    {
      "cell_type": "markdown",
      "source": [
        "# All Updates"
      ],
      "metadata": {
        "id": "uofmAmfD3wYN"
      }
    },
    {
      "cell_type": "code",
      "source": [
        "'''\n",
        "if colab \n",
        "  #install python 3.9\n",
        "  !sudo apt-get update -y\n",
        "  !sudo apt-get install python3.9\n",
        "\n",
        "  #change alternatives\n",
        "  !sudo update-alternatives --install /usr/bin/python3 python3 /usr/bin/python3.7 1\n",
        "  !sudo update-alternatives --install /usr/bin/python3 python3 /usr/bin/python3.9 2\n",
        "\n",
        "  #check python version\n",
        "  !python --version\n",
        "  #3.9.6\n",
        "'''"
      ],
      "metadata": {
        "colab": {
          "base_uri": "https://localhost:8080/",
          "height": 87
        },
        "id": "9O_yLLQA3thl",
        "outputId": "64056cda-b1ab-4b0d-efb6-90bad316b2e6"
      },
      "execution_count": 4,
      "outputs": [
        {
          "output_type": "execute_result",
          "data": {
            "application/vnd.google.colaboratory.intrinsic+json": {
              "type": "string"
            },
            "text/plain": [
              "'\\nif colab \\n  #install python 3.9\\n  !sudo apt-get update -y\\n  !sudo apt-get install python3.9\\n\\n  #change alternatives\\n  !sudo update-alternatives --install /usr/bin/python3 python3 /usr/bin/python3.7 1\\n  !sudo update-alternatives --install /usr/bin/python3 python3 /usr/bin/python3.9 2\\n\\n  #check python version\\n  !python --version\\n  #3.9.6\\n'"
            ]
          },
          "metadata": {},
          "execution_count": 4
        }
      ]
    },
    {
      "cell_type": "markdown",
      "source": [
        "# Libraries Installation Section\n"
      ],
      "metadata": {
        "id": "PvRvKYjLohbA"
      }
    },
    {
      "cell_type": "markdown",
      "source": [
        "Installation of all required libraries: private-pgm and nist-synthetic-data"
      ],
      "metadata": {
        "id": "VgFPOrG9oKkH"
      }
    },
    {
      "cell_type": "code",
      "execution_count": 5,
      "metadata": {
        "colab": {
          "base_uri": "https://localhost:8080/"
        },
        "id": "N9Hu52yqkKsu",
        "outputId": "3b4e79fa-840f-403c-a04d-c8e2fe6ecace"
      },
      "outputs": [
        {
          "output_type": "execute_result",
          "data": {
            "text/plain": [
              "0"
            ]
          },
          "metadata": {},
          "execution_count": 5
        }
      ],
      "source": [
        "os.system('git clone https://github.com/ryan112358/private-pgm.git')"
      ]
    },
    {
      "cell_type": "code",
      "source": [
        "os.system('pip install -r ./private-pgm/requirements.txt')\n",
        "os.system('pip install ./private-pgm')"
      ],
      "metadata": {
        "colab": {
          "base_uri": "https://localhost:8080/"
        },
        "id": "HHpg3YEwmErS",
        "outputId": "8a124081-f5a9-48cd-ebd1-b50470740bd3"
      },
      "execution_count": 6,
      "outputs": [
        {
          "output_type": "execute_result",
          "data": {
            "text/plain": [
              "0"
            ]
          },
          "metadata": {},
          "execution_count": 6
        }
      ]
    },
    {
      "cell_type": "code",
      "source": [
        "os.system('git clone https://github.com/ryan112358/nist-synthetic-data-2021.git')\n"
      ],
      "metadata": {
        "colab": {
          "base_uri": "https://localhost:8080/"
        },
        "id": "DffXF880mgxj",
        "outputId": "678eeb27-7786-4be9-a1ac-53b62fab2d5a"
      },
      "execution_count": 7,
      "outputs": [
        {
          "output_type": "execute_result",
          "data": {
            "text/plain": [
              "0"
            ]
          },
          "metadata": {},
          "execution_count": 7
        }
      ]
    },
    {
      "cell_type": "code",
      "source": [
        "os.system('pip install -r ./nist-synthetic-data-2021/requirements.txt')"
      ],
      "metadata": {
        "colab": {
          "base_uri": "https://localhost:8080/"
        },
        "id": "esUujxsqn-nZ",
        "outputId": "a21f53c7-761a-4a36-f65d-a2e509d92f58"
      },
      "execution_count": 8,
      "outputs": [
        {
          "output_type": "execute_result",
          "data": {
            "text/plain": [
              "0"
            ]
          },
          "metadata": {},
          "execution_count": 8
        }
      ]
    },
    {
      "cell_type": "markdown",
      "source": [
        "# Data Download - ACS and SatGPA"
      ],
      "metadata": {
        "id": "456-Hs6gvjM2"
      }
    },
    {
      "cell_type": "code",
      "source": [
        "if not os.path.exists(\"./satgpa.csv\"):\n",
        "    os.system('gdown --id \"1NNVF1LhBDkW_KKp5_QW8cAiQDFatzWMy\" --output \"./satgpa.csv\"')\n",
        "\n",
        "'''\n",
        "if not os.path.exists(\"./acs_dataset.zip\"):\n",
        "    os.system('gdown --id \"1mKZfDieGBJP-cS-R7_i3zVKVawXThfUc\" --output \"./acs_dataset.zip\"')\n",
        "    if OS == \"Linux\":\n",
        "        os.system('unzip -o -n \"./acs_dataset.zip\" -d \"./\"')\n",
        "'''\n",
        "\n",
        "if not os.path.exists(\"./satgpa_parameters.json\"):\n",
        "    os.system('gdown --id \"1sA-sWA8WktSM1yfvY0ceg5woaVyIFyfs\" --output \"./satgpa_parameters.json\"')"
      ],
      "metadata": {
        "id": "gif6H4EZvoNM"
      },
      "execution_count": 9,
      "outputs": []
    },
    {
      "cell_type": "markdown",
      "source": [
        "# Schema Generation via Schemagen"
      ],
      "metadata": {
        "id": "qgkPCcRQmkx0"
      }
    },
    {
      "cell_type": "code",
      "source": [
        "#if benchmark == True: \n",
        "#  os.system('unzip -o -n \"./acs_dataset.zip\" -d \"./\"')\n",
        "#  !python ./nist-synthetic-data-2021/extensions/schemagen.py ./nist-synthetic-data-2021/extensions/datasets/raw/adult.csv --max_categorical 40"
      ],
      "metadata": {
        "colab": {
          "base_uri": "https://localhost:8080/"
        },
        "id": "OK1ehZ-AmjBy",
        "outputId": "f2a5e332-9c6c-43ba-b2ef-0e60930f741d"
      },
      "execution_count": 22,
      "outputs": [
        {
          "output_type": "stream",
          "name": "stdout",
          "text": [
            "ERROR:schemagen.schemagen:Caught an error when trying to parse schema:\n",
            "Traceback (most recent call last):\n",
            "  File \"/content/nist-synthetic-data-2021/extensions/schemagen/schemagen.py\", line 144, in read_and_parse_csv\n",
            "    geographical_columns=geographical_columns\n",
            "  File \"/content/nist-synthetic-data-2021/extensions/schemagen/schemagen.py\", line 472, in _build_schema\n",
            "    (datatype, min_value, max_value) = self._get_series_dtype(series)\n",
            "  File \"/content/nist-synthetic-data-2021/extensions/schemagen/schemagen.py\", line 565, in _get_series_dtype\n",
            "    min_value = series.min().item()\n",
            "AttributeError: 'int' object has no attribute 'item'\n",
            "ERROR:root:Unable to load the specified CSV file.\n",
            "ERROR:root:Unable to generate schema. Please review logs for details.\n"
          ]
        }
      ]
    },
    {
      "cell_type": "markdown",
      "source": [
        "# Data Discretization via Schemagen"
      ],
      "metadata": {
        "id": "1PoTJAUh4h6L"
      }
    },
    {
      "cell_type": "code",
      "source": [
        "#os.system('python ./nist-synthetic-data-2021/extensions/transform.py --transform discretize --df \"./satgpa.csv\" --schema \"./satgpa_parameters.json\" --output_dir \"./\"')\n",
        "!python ./nist-synthetic-data-2021/extensions/transform.py --transform discretize --df \"./satgpa.csv\" --schema \"./satgpa_parameters.json\" --output_dir \"./\""
      ],
      "metadata": {
        "id": "w687fFK28E2g"
      },
      "execution_count": 10,
      "outputs": []
    },
    {
      "cell_type": "code",
      "source": [
        "os.system('python ./nist-synthetic-data-2021/extensions/check_domain.py --dataset \"./discretized.csv\" --domain \"./domain.json\"')"
      ],
      "metadata": {
        "colab": {
          "base_uri": "https://localhost:8080/"
        },
        "id": "weF7EvE0BjNL",
        "outputId": "c44f87ac-40c0-439d-bf8b-a0d697eebe25"
      },
      "execution_count": 11,
      "outputs": [
        {
          "output_type": "execute_result",
          "data": {
            "text/plain": [
              "0"
            ]
          },
          "metadata": {},
          "execution_count": 11
        }
      ]
    },
    {
      "cell_type": "markdown",
      "source": [
        "# Synthetization of Input Discretized Data"
      ],
      "metadata": {
        "id": "V0GQ-fpgCWzQ"
      }
    },
    {
      "cell_type": "code",
      "source": [
        "#os.system('python ./nist-synthetic-data-2021/extensions/adaptive_grid.py --dataset \"./discretized.csv\" --domain \"./domain.json\" --save \"./satgpa_discretized_synthetic.csv\" --epsilon 10')\n",
        "!python ./nist-synthetic-data-2021/extensions/adaptive_grid.py --dataset \"./discretized.csv\" --domain \"./domain.json\" --save \"./satgpa_discretized_synthetic.csv\" --epsilon 10"
      ],
      "metadata": {
        "colab": {
          "base_uri": "https://localhost:8080/"
        },
        "id": "n62fUTUoCUbY",
        "outputId": "b4f8996a-c0f7-4507-b99b-ecd30e2bd713"
      },
      "execution_count": 12,
      "outputs": [
        {
          "output_type": "stream",
          "name": "stdout",
          "text": [
            "\n",
            "Measuring ('sex',), L2 sensitivity 1.000000\n",
            "Measuring ('fy_gpa',), L2 sensitivity 1.000000\n",
            "Measuring ('sat_sum',), L2 sensitivity 1.000000\n",
            "Measuring ('sat_v',), L2 sensitivity 1.000000\n",
            "Measuring ('hs_gpa',), L2 sensitivity 1.000000\n",
            "Measuring ('sat_m',), L2 sensitivity 1.000000\n",
            "\n",
            "Measuring ('sex', 'hs_gpa'), L2 sensitivity 1.000000\n",
            "Measuring ('sat_v', 'sat_sum'), L2 sensitivity 1.000000\n",
            "Measuring ('sat_m', 'sat_sum'), L2 sensitivity 1.000000\n",
            "Measuring ('sat_sum', 'hs_gpa'), L2 sensitivity 1.000000\n",
            "Measuring ('hs_gpa', 'fy_gpa'), L2 sensitivity 1.000000\n",
            "\n",
            "Post-processing with Private-PGM, will take some time...\n"
          ]
        }
      ]
    },
    {
      "cell_type": "code",
      "source": [
        "#os.system('python ./nist-synthetic-data-2021/extensions/transform.py --transform undo_discretize --df \"./satgpa_discretized_synthetic.csv\" --schema \"./satgpa_parameters.json\"')\n",
        "!python ./nist-synthetic-data-2021/extensions/transform.py --transform undo_discretize --df \"./\" --schema \"./satgpa_parameters.json\""
      ],
      "metadata": {
        "colab": {
          "base_uri": "https://localhost:8080/"
        },
        "id": "gtOjeaw7Z1vc",
        "outputId": "ef31cc34-ca23-4465-b5c5-0e30fb5bab8f"
      },
      "execution_count": 13,
      "outputs": [
        {
          "output_type": "stream",
          "name": "stdout",
          "text": [
            "Traceback (most recent call last):\n",
            "  File \"./nist-synthetic-data-2021/extensions/transform.py\", line 83, in <module>\n",
            "    df = pd.read_csv(args.df)\n",
            "  File \"/usr/local/lib/python3.7/dist-packages/pandas/io/parsers.py\", line 688, in read_csv\n",
            "    return _read(filepath_or_buffer, kwds)\n",
            "  File \"/usr/local/lib/python3.7/dist-packages/pandas/io/parsers.py\", line 454, in _read\n",
            "    parser = TextFileReader(fp_or_buf, **kwds)\n",
            "  File \"/usr/local/lib/python3.7/dist-packages/pandas/io/parsers.py\", line 948, in __init__\n",
            "    self._make_engine(self.engine)\n",
            "  File \"/usr/local/lib/python3.7/dist-packages/pandas/io/parsers.py\", line 1180, in _make_engine\n",
            "    self._engine = CParserWrapper(self.f, **self.options)\n",
            "  File \"/usr/local/lib/python3.7/dist-packages/pandas/io/parsers.py\", line 2010, in __init__\n",
            "    self._reader = parsers.TextReader(src, **kwds)\n",
            "  File \"pandas/_libs/parsers.pyx\", line 537, in pandas._libs.parsers.TextReader.__cinit__\n",
            "  File \"pandas/_libs/parsers.pyx\", line 711, in pandas._libs.parsers.TextReader._get_header\n",
            "  File \"pandas/_libs/parsers.pyx\", line 905, in pandas._libs.parsers.TextReader._tokenize_rows\n",
            "  File \"pandas/_libs/parsers.pyx\", line 2042, in pandas._libs.parsers.raise_parser_error\n",
            "pandas.errors.ParserError: Error tokenizing data. C error: Calling read(nbytes) on source failed. Try engine='python'.\n"
          ]
        }
      ]
    }
  ]
}